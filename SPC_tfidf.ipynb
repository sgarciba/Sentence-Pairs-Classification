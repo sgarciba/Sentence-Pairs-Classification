{
 "cells": [
  {
   "cell_type": "markdown",
   "metadata": {},
   "source": [
    "# SENTENCE PAIRS CLASSIFICATION: GLOVE IMPLEMENTATION"
   ]
  },
  {
   "cell_type": "markdown",
   "metadata": {},
   "source": [
    "### 1. DATA EXPLORATION"
   ]
  },
  {
   "cell_type": "code",
   "execution_count": 1,
   "metadata": {},
   "outputs": [],
   "source": [
    "import numpy as np\n",
    "import pandas as pd\n",
    "import csv\n",
    "import random\n",
    "\n",
    "# Import packages for pre-processing\n",
    "import nltk\n",
    "from tqdm import tqdm\n",
    "from nltk.tokenize import word_tokenize\n",
    "from nltk.stem import WordNetLemmatizer\n",
    "import re\n",
    "\n",
    "# Tf-idf\n",
    "from sklearn.feature_extraction.text import TfidfVectorizer\n",
    "\n",
    "# Cosine Similarity \n",
    "from sklearn.metrics.pairwise import cosine_similarity\n",
    "from sklearn.metrics.pairwise import euclidean_distances\n",
    "import matplotlib.pyplot as plt\n",
    "import seaborn as sb\n",
    "\n",
    "import warnings\n",
    "warnings.filterwarnings('ignore')\n",
    "\n",
    "# Data Modelling\n",
    "import time\n",
    "from sklearn.svm import SVC\n",
    "from sklearn.metrics import accuracy_score, classification_report\n",
    "from sklearn.model_selection import GridSearchCV\n",
    "from sklearn.linear_model import LogisticRegression\n",
    "from sklearn.neighbors import KNeighborsClassifier\n",
    "from sklearn.ensemble import RandomForestClassifier\n"
   ]
  },
  {
   "cell_type": "code",
   "execution_count": 2,
   "metadata": {},
   "outputs": [
    {
     "data": {
      "text/html": [
       "<div>\n",
       "<style scoped>\n",
       "    .dataframe tbody tr th:only-of-type {\n",
       "        vertical-align: middle;\n",
       "    }\n",
       "\n",
       "    .dataframe tbody tr th {\n",
       "        vertical-align: top;\n",
       "    }\n",
       "\n",
       "    .dataframe thead th {\n",
       "        text-align: right;\n",
       "    }\n",
       "</style>\n",
       "<table border=\"1\" class=\"dataframe\">\n",
       "  <thead>\n",
       "    <tr style=\"text-align: right;\">\n",
       "      <th></th>\n",
       "      <th>sentence1</th>\n",
       "      <th>sentence2</th>\n",
       "      <th>gold_label</th>\n",
       "    </tr>\n",
       "  </thead>\n",
       "  <tbody>\n",
       "    <tr>\n",
       "      <th>0</th>\n",
       "      <td>A person on a horse jumps over a broken down a...</td>\n",
       "      <td>A person is training his horse for a competition.</td>\n",
       "      <td>neutral</td>\n",
       "    </tr>\n",
       "    <tr>\n",
       "      <th>1</th>\n",
       "      <td>A person on a horse jumps over a broken down a...</td>\n",
       "      <td>A person is at a diner, ordering an omelette.</td>\n",
       "      <td>contradiction</td>\n",
       "    </tr>\n",
       "    <tr>\n",
       "      <th>2</th>\n",
       "      <td>A person on a horse jumps over a broken down a...</td>\n",
       "      <td>A person is outdoors, on a horse.</td>\n",
       "      <td>entailment</td>\n",
       "    </tr>\n",
       "    <tr>\n",
       "      <th>3</th>\n",
       "      <td>Children smiling and waving at camera</td>\n",
       "      <td>They are smiling at their parents</td>\n",
       "      <td>neutral</td>\n",
       "    </tr>\n",
       "    <tr>\n",
       "      <th>4</th>\n",
       "      <td>Children smiling and waving at camera</td>\n",
       "      <td>There are children present</td>\n",
       "      <td>entailment</td>\n",
       "    </tr>\n",
       "  </tbody>\n",
       "</table>\n",
       "</div>"
      ],
      "text/plain": [
       "                                           sentence1  \\\n",
       "0  A person on a horse jumps over a broken down a...   \n",
       "1  A person on a horse jumps over a broken down a...   \n",
       "2  A person on a horse jumps over a broken down a...   \n",
       "3              Children smiling and waving at camera   \n",
       "4              Children smiling and waving at camera   \n",
       "\n",
       "                                           sentence2     gold_label  \n",
       "0  A person is training his horse for a competition.        neutral  \n",
       "1      A person is at a diner, ordering an omelette.  contradiction  \n",
       "2                  A person is outdoors, on a horse.     entailment  \n",
       "3                  They are smiling at their parents        neutral  \n",
       "4                         There are children present     entailment  "
      ]
     },
     "execution_count": 2,
     "metadata": {},
     "output_type": "execute_result"
    }
   ],
   "source": [
    "# Load the SNLI dataset\n",
    "path = '/Users/sergiogarcia/Documents/Thesis/Project/snli_1.0/'\n",
    "train_data = pd.read_csv(path + 'snli_1.0_train.txt', sep=\"\\t\")\n",
    "train_data = pd.DataFrame(train_data, columns=['sentence1', 'sentence2', 'gold_label'])\n",
    "\n",
    "# Remove all the rows labeled as '-' and NaN values\n",
    "train_data = train_data.loc[train_data['gold_label'] != '-']\n",
    "train_data = train_data.dropna()\n",
    "\n",
    "# Create a subset of the data in order to run de model faster\n",
    "train_data = train_data.iloc[:10000,:]\n",
    "train_data.head()"
   ]
  },
  {
   "cell_type": "code",
   "execution_count": 3,
   "metadata": {},
   "outputs": [
    {
     "data": {
      "text/html": [
       "<div>\n",
       "<style scoped>\n",
       "    .dataframe tbody tr th:only-of-type {\n",
       "        vertical-align: middle;\n",
       "    }\n",
       "\n",
       "    .dataframe tbody tr th {\n",
       "        vertical-align: top;\n",
       "    }\n",
       "\n",
       "    .dataframe thead th {\n",
       "        text-align: right;\n",
       "    }\n",
       "</style>\n",
       "<table border=\"1\" class=\"dataframe\">\n",
       "  <thead>\n",
       "    <tr style=\"text-align: right;\">\n",
       "      <th></th>\n",
       "      <th>sentence1</th>\n",
       "      <th>sentence2</th>\n",
       "      <th>gold_label</th>\n",
       "    </tr>\n",
       "  </thead>\n",
       "  <tbody>\n",
       "    <tr>\n",
       "      <th>0</th>\n",
       "      <td>This church choir sings to the masses as they ...</td>\n",
       "      <td>The church has cracks in the ceiling.</td>\n",
       "      <td>neutral</td>\n",
       "    </tr>\n",
       "    <tr>\n",
       "      <th>1</th>\n",
       "      <td>This church choir sings to the masses as they ...</td>\n",
       "      <td>The church is filled with song.</td>\n",
       "      <td>entailment</td>\n",
       "    </tr>\n",
       "    <tr>\n",
       "      <th>2</th>\n",
       "      <td>This church choir sings to the masses as they ...</td>\n",
       "      <td>A choir singing at a baseball game.</td>\n",
       "      <td>contradiction</td>\n",
       "    </tr>\n",
       "    <tr>\n",
       "      <th>3</th>\n",
       "      <td>A woman with a green headscarf, blue shirt and...</td>\n",
       "      <td>The woman is young.</td>\n",
       "      <td>neutral</td>\n",
       "    </tr>\n",
       "    <tr>\n",
       "      <th>4</th>\n",
       "      <td>A woman with a green headscarf, blue shirt and...</td>\n",
       "      <td>The woman is very happy.</td>\n",
       "      <td>entailment</td>\n",
       "    </tr>\n",
       "  </tbody>\n",
       "</table>\n",
       "</div>"
      ],
      "text/plain": [
       "                                           sentence1  \\\n",
       "0  This church choir sings to the masses as they ...   \n",
       "1  This church choir sings to the masses as they ...   \n",
       "2  This church choir sings to the masses as they ...   \n",
       "3  A woman with a green headscarf, blue shirt and...   \n",
       "4  A woman with a green headscarf, blue shirt and...   \n",
       "\n",
       "                               sentence2     gold_label  \n",
       "0  The church has cracks in the ceiling.        neutral  \n",
       "1        The church is filled with song.     entailment  \n",
       "2    A choir singing at a baseball game.  contradiction  \n",
       "3                    The woman is young.        neutral  \n",
       "4               The woman is very happy.     entailment  "
      ]
     },
     "execution_count": 3,
     "metadata": {},
     "output_type": "execute_result"
    }
   ],
   "source": [
    "# Test set\n",
    "test_data = pd.read_csv(path + 'snli_1.0_test.txt', sep=\"\\t\")\n",
    "test_data = pd.DataFrame(test_data, columns=['sentence1', 'sentence2', 'gold_label'])\n",
    "\n",
    "# Remove all the rows labeled as '-' and NaN values\n",
    "test_data = test_data.loc[test_data['gold_label'] != '-']\n",
    "test_data = test_data.dropna()\n",
    "\n",
    "# Create a subset of the data in order to run de model faster\n",
    "test_data = test_data.iloc[:2500,:]\n",
    "test_data.head()"
   ]
  },
  {
   "cell_type": "code",
   "execution_count": 4,
   "metadata": {},
   "outputs": [
    {
     "name": "stdout",
     "output_type": "stream",
     "text": [
      "Train Data size: (10000, 3)\n",
      "Test Data size: (2500, 3)\n"
     ]
    }
   ],
   "source": [
    "# Shuffle data\n",
    "train_data = train_data.sample(frac=1, random_state=203)\n",
    "\n",
    "# Size of the datasets \n",
    "print('Train Data size:', train_data.shape)\n",
    "print('Test Data size:', test_data.shape)"
   ]
  },
  {
   "cell_type": "code",
   "execution_count": 5,
   "metadata": {},
   "outputs": [
    {
     "name": "stdout",
     "output_type": "stream",
     "text": [
      "==Labels train set:==\n",
      "entailment       3340\n",
      "contradiction    3334\n",
      "neutral          3326\n",
      "Name: gold_label, dtype: int64\n",
      "\n",
      "==Labels test set:==\n",
      "entailment       854\n",
      "neutral          830\n",
      "contradiction    816\n",
      "Name: gold_label, dtype: int64\n"
     ]
    }
   ],
   "source": [
    "# Labels distributions\n",
    "print('==Labels train set:==\\n{}'.format(train_data['gold_label'].value_counts()))\n",
    "print('\\n==Labels test set:==\\n{}'.format(test_data['gold_label'].value_counts()))"
   ]
  },
  {
   "cell_type": "markdown",
   "metadata": {},
   "source": [
    "### 2. DATA PRE-PROCESSING"
   ]
  },
  {
   "cell_type": "code",
   "execution_count": 17,
   "metadata": {},
   "outputs": [],
   "source": [
    "lemmat = WordNetLemmatizer()\n",
    "\n",
    "def clean_text(sentence, lemma=False):    \n",
    "\n",
    "    # Step 1: Transform text to lower case, remove url, some punctuations and long repeated characters \n",
    "    sent = sentence.lower()\n",
    "    sent = re.sub(r'(http:)\\S+', r'', sent)\n",
    "    sent = re.sub(r'[\\.,`=_/#]', r' ', sent)\n",
    "    sent = re.sub(r'(\\w)\\1{2,}', r'\\1\\1', sent)\n",
    "\n",
    "    # Step 2: Find the tokens of each text and apply lemmatization\n",
    "    tokens = word_tokenize(sent)\n",
    "    if lemma: tokens = [lemmat.lemmatize(w) for w in tokens] \n",
    "\n",
    "    return ' '.join(tokens)\n",
    "\n",
    "# Data Cleaning in both sets\n",
    "train_data['clean_sent1'] = train_data['sentence1'].map(lambda x: clean_text(x, lemma=True))\n",
    "train_data['clean_sent2'] = train_data['sentence2'].map(lambda x: clean_text(x, lemma=True))\n",
    "\n",
    "\n",
    "test_data['clean_sent1'] = test_data['sentence1'].map(lambda x: clean_text(x, lemma=True))\n",
    "test_data['clean_sent2'] = test_data['sentence2'].map(lambda x: clean_text(x, lemma=True))"
   ]
  },
  {
   "cell_type": "code",
   "execution_count": 18,
   "metadata": {},
   "outputs": [],
   "source": [
    "# Column with integer labels\n",
    "dict_label = {'entailment': 0, 'neutral': 1, 'contradiction': 2}\n",
    "train_data['int_label'] = train_data['gold_label'].map(lambda x: dict_label[x])\n",
    "test_data['int_label'] = test_data['gold_label'].map(lambda x: dict_label[x])"
   ]
  },
  {
   "cell_type": "code",
   "execution_count": 19,
   "metadata": {},
   "outputs": [
    {
     "data": {
      "text/html": [
       "<div>\n",
       "<style scoped>\n",
       "    .dataframe tbody tr th:only-of-type {\n",
       "        vertical-align: middle;\n",
       "    }\n",
       "\n",
       "    .dataframe tbody tr th {\n",
       "        vertical-align: top;\n",
       "    }\n",
       "\n",
       "    .dataframe thead th {\n",
       "        text-align: right;\n",
       "    }\n",
       "</style>\n",
       "<table border=\"1\" class=\"dataframe\">\n",
       "  <thead>\n",
       "    <tr style=\"text-align: right;\">\n",
       "      <th></th>\n",
       "      <th>sentence1</th>\n",
       "      <th>sentence2</th>\n",
       "      <th>gold_label</th>\n",
       "      <th>clean_sent1</th>\n",
       "      <th>clean_sent2</th>\n",
       "      <th>int_label</th>\n",
       "      <th>dist_cos</th>\n",
       "      <th>dist_euc</th>\n",
       "    </tr>\n",
       "  </thead>\n",
       "  <tbody>\n",
       "    <tr>\n",
       "      <th>4638</th>\n",
       "      <td>Two small children playing football in yellow ...</td>\n",
       "      <td>two small children are playing football for th...</td>\n",
       "      <td>neutral</td>\n",
       "      <td>two small child playing football in yellow and...</td>\n",
       "      <td>two small child are playing football for their...</td>\n",
       "      <td>1</td>\n",
       "      <td>0.464148</td>\n",
       "      <td>1.035231</td>\n",
       "    </tr>\n",
       "    <tr>\n",
       "      <th>3472</th>\n",
       "      <td>Two asian females go walking.</td>\n",
       "      <td>The females are moving their legs.</td>\n",
       "      <td>entailment</td>\n",
       "      <td>two asian female go walking</td>\n",
       "      <td>the female are moving their leg</td>\n",
       "      <td>0</td>\n",
       "      <td>0.387333</td>\n",
       "      <td>1.106948</td>\n",
       "    </tr>\n",
       "    <tr>\n",
       "      <th>8723</th>\n",
       "      <td>A girl walking near a guy holding onto a bike ...</td>\n",
       "      <td>Two kids are riding mopeds.</td>\n",
       "      <td>contradiction</td>\n",
       "      <td>a girl walking near a guy holding onto a bike ...</td>\n",
       "      <td>two kid are riding moped</td>\n",
       "      <td>2</td>\n",
       "      <td>0.000000</td>\n",
       "      <td>1.414214</td>\n",
       "    </tr>\n",
       "  </tbody>\n",
       "</table>\n",
       "</div>"
      ],
      "text/plain": [
       "                                              sentence1  \\\n",
       "4638  Two small children playing football in yellow ...   \n",
       "3472                      Two asian females go walking.   \n",
       "8723  A girl walking near a guy holding onto a bike ...   \n",
       "\n",
       "                                              sentence2     gold_label  \\\n",
       "4638  two small children are playing football for th...        neutral   \n",
       "3472                 The females are moving their legs.     entailment   \n",
       "8723                        Two kids are riding mopeds.  contradiction   \n",
       "\n",
       "                                            clean_sent1  \\\n",
       "4638  two small child playing football in yellow and...   \n",
       "3472                        two asian female go walking   \n",
       "8723  a girl walking near a guy holding onto a bike ...   \n",
       "\n",
       "                                            clean_sent2  int_label  dist_cos  \\\n",
       "4638  two small child are playing football for their...          1  0.464148   \n",
       "3472                    the female are moving their leg          0  0.387333   \n",
       "8723                           two kid are riding moped          2  0.000000   \n",
       "\n",
       "      dist_euc  \n",
       "4638  1.035231  \n",
       "3472  1.106948  \n",
       "8723  1.414214  "
      ]
     },
     "execution_count": 19,
     "metadata": {},
     "output_type": "execute_result"
    }
   ],
   "source": [
    "# Preview results after pre-processing\n",
    "train_data.iloc[:3]"
   ]
  },
  {
   "cell_type": "markdown",
   "metadata": {},
   "source": [
    "### 3. TEXT VECTORIZATION"
   ]
  },
  {
   "cell_type": "code",
   "execution_count": 20,
   "metadata": {},
   "outputs": [],
   "source": [
    "max_features = 300\n",
    "\n",
    "# Fit the vectorizer to the pair of training data and transform it separetely\n",
    "vectorizer = TfidfVectorizer(max_features = max_features, max_df = 0.5)\n",
    "\n",
    "# Join pair of sentences\n",
    "pair_train = [' '.join([s1,s2]) for s1,s2 in train_data[['clean_sent1', 'clean_sent2']].values]\n",
    "train_vec = vectorizer.fit(pair_train)"
   ]
  },
  {
   "cell_type": "code",
   "execution_count": 21,
   "metadata": {},
   "outputs": [
    {
     "name": "stdout",
     "output_type": "stream",
     "text": [
      "(10000, 300)\n",
      "(10000, 300)\n"
     ]
    }
   ],
   "source": [
    "# Transform sentence independently\n",
    "X_train1 = train_vec.transform(train_data['clean_sent1'].values)\n",
    "X_train2 = train_vec.transform(train_data['clean_sent2'].values)\n",
    "\n",
    "#Vectorize test sentences\n",
    "X_test1 = train_vec.transform(test_data['clean_sent1'].values)\n",
    "X_test2 = train_vec.transform(test_data['clean_sent2'].values)\n",
    "\n",
    "print(X_train1.shape)\n",
    "print(X_train2.shape)"
   ]
  },
  {
   "cell_type": "markdown",
   "metadata": {},
   "source": [
    "### 4. SENTENCE SIMILARITY"
   ]
  },
  {
   "cell_type": "code",
   "execution_count": 22,
   "metadata": {},
   "outputs": [],
   "source": [
    "# Create a Dictionary of labels with its cosine values\n",
    "def dic_labels(x,y):\n",
    "    \n",
    "    dic = {\n",
    "    'neutral': [],\n",
    "    'entailment': [],\n",
    "    'contradiction': []\n",
    "    }\n",
    "    \n",
    "    for i,j in zip(x,y):\n",
    "        if j == 'entailment':\n",
    "            dic[j].append(i)\n",
    "        elif j == 'neutral':\n",
    "            dic[j].append(i)\n",
    "        else:\n",
    "            dic[j].append(i)\n",
    "    \n",
    "    return dic"
   ]
  },
  {
   "cell_type": "code",
   "execution_count": 23,
   "metadata": {},
   "outputs": [],
   "source": [
    "# Compute distance metrics\n",
    "cosine = lambda x,y: cosine_similarity(x.reshape(1,-1), y.reshape(1,-1)).flatten()[0]\n",
    "euclidean = lambda x,y: euclidean_distances(x.reshape(1,-1), y.reshape(1,-1)).flatten()[0]\n",
    "\n",
    "train_data['dist_cos'] = list(map(cosine, X_train1, X_train2))\n",
    "train_data['dist_euc'] = list(map(euclidean, X_train1, X_train2))\n",
    "\n",
    "dist_cos = dic_labels(train_data['dist_cos'].values, train_data['gold_label'].values)\n",
    "dist_euc = dic_labels(train_data['dist_euc'].values, train_data['gold_label'].values)"
   ]
  },
  {
   "cell_type": "code",
   "execution_count": 24,
   "metadata": {},
   "outputs": [
    {
     "data": {
      "text/html": [
       "<div>\n",
       "<style scoped>\n",
       "    .dataframe tbody tr th:only-of-type {\n",
       "        vertical-align: middle;\n",
       "    }\n",
       "\n",
       "    .dataframe tbody tr th {\n",
       "        vertical-align: top;\n",
       "    }\n",
       "\n",
       "    .dataframe thead th {\n",
       "        text-align: right;\n",
       "    }\n",
       "</style>\n",
       "<table border=\"1\" class=\"dataframe\">\n",
       "  <thead>\n",
       "    <tr style=\"text-align: right;\">\n",
       "      <th></th>\n",
       "      <th>sentence1</th>\n",
       "      <th>sentence2</th>\n",
       "      <th>gold_label</th>\n",
       "      <th>clean_sent1</th>\n",
       "      <th>clean_sent2</th>\n",
       "      <th>int_label</th>\n",
       "      <th>dist_cos</th>\n",
       "      <th>dist_euc</th>\n",
       "    </tr>\n",
       "  </thead>\n",
       "  <tbody>\n",
       "    <tr>\n",
       "      <th>4638</th>\n",
       "      <td>Two small children playing football in yellow ...</td>\n",
       "      <td>two small children are playing football for th...</td>\n",
       "      <td>neutral</td>\n",
       "      <td>two small child playing football in yellow and...</td>\n",
       "      <td>two small child are playing football for their...</td>\n",
       "      <td>1</td>\n",
       "      <td>0.464148</td>\n",
       "      <td>1.035231</td>\n",
       "    </tr>\n",
       "    <tr>\n",
       "      <th>3472</th>\n",
       "      <td>Two asian females go walking.</td>\n",
       "      <td>The females are moving their legs.</td>\n",
       "      <td>entailment</td>\n",
       "      <td>two asian female go walking</td>\n",
       "      <td>the female are moving their leg</td>\n",
       "      <td>0</td>\n",
       "      <td>0.387333</td>\n",
       "      <td>1.106948</td>\n",
       "    </tr>\n",
       "    <tr>\n",
       "      <th>8723</th>\n",
       "      <td>A girl walking near a guy holding onto a bike ...</td>\n",
       "      <td>Two kids are riding mopeds.</td>\n",
       "      <td>contradiction</td>\n",
       "      <td>a girl walking near a guy holding onto a bike ...</td>\n",
       "      <td>two kid are riding moped</td>\n",
       "      <td>2</td>\n",
       "      <td>0.000000</td>\n",
       "      <td>1.414214</td>\n",
       "    </tr>\n",
       "    <tr>\n",
       "      <th>341</th>\n",
       "      <td>A man squatting in the foreground of a photogr...</td>\n",
       "      <td>A male skateboarder performs tricks outdoors f...</td>\n",
       "      <td>neutral</td>\n",
       "      <td>a man squatting in the foreground of a photogr...</td>\n",
       "      <td>a male skateboarder performs trick outdoors fo...</td>\n",
       "      <td>1</td>\n",
       "      <td>0.176306</td>\n",
       "      <td>1.283506</td>\n",
       "    </tr>\n",
       "    <tr>\n",
       "      <th>703</th>\n",
       "      <td>A man carrying a load of fresh direct boxes on...</td>\n",
       "      <td>A young lad delivers groceries by bicycle in t...</td>\n",
       "      <td>contradiction</td>\n",
       "      <td>a man carrying a load of fresh direct box on c...</td>\n",
       "      <td>a young lad delivers grocery by bicycle in the...</td>\n",
       "      <td>2</td>\n",
       "      <td>0.206059</td>\n",
       "      <td>1.260112</td>\n",
       "    </tr>\n",
       "  </tbody>\n",
       "</table>\n",
       "</div>"
      ],
      "text/plain": [
       "                                              sentence1  \\\n",
       "4638  Two small children playing football in yellow ...   \n",
       "3472                      Two asian females go walking.   \n",
       "8723  A girl walking near a guy holding onto a bike ...   \n",
       "341   A man squatting in the foreground of a photogr...   \n",
       "703   A man carrying a load of fresh direct boxes on...   \n",
       "\n",
       "                                              sentence2     gold_label  \\\n",
       "4638  two small children are playing football for th...        neutral   \n",
       "3472                 The females are moving their legs.     entailment   \n",
       "8723                        Two kids are riding mopeds.  contradiction   \n",
       "341   A male skateboarder performs tricks outdoors f...        neutral   \n",
       "703   A young lad delivers groceries by bicycle in t...  contradiction   \n",
       "\n",
       "                                            clean_sent1  \\\n",
       "4638  two small child playing football in yellow and...   \n",
       "3472                        two asian female go walking   \n",
       "8723  a girl walking near a guy holding onto a bike ...   \n",
       "341   a man squatting in the foreground of a photogr...   \n",
       "703   a man carrying a load of fresh direct box on c...   \n",
       "\n",
       "                                            clean_sent2  int_label  dist_cos  \\\n",
       "4638  two small child are playing football for their...          1  0.464148   \n",
       "3472                    the female are moving their leg          0  0.387333   \n",
       "8723                           two kid are riding moped          2  0.000000   \n",
       "341   a male skateboarder performs trick outdoors fo...          1  0.176306   \n",
       "703   a young lad delivers grocery by bicycle in the...          2  0.206059   \n",
       "\n",
       "      dist_euc  \n",
       "4638  1.035231  \n",
       "3472  1.106948  \n",
       "8723  1.414214  \n",
       "341   1.283506  \n",
       "703   1.260112  "
      ]
     },
     "execution_count": 24,
     "metadata": {},
     "output_type": "execute_result"
    }
   ],
   "source": [
    "train_data.iloc[:5]"
   ]
  },
  {
   "cell_type": "code",
   "execution_count": 25,
   "metadata": {},
   "outputs": [
    {
     "data": {
      "image/png": "[encoded data removed]",
      "text/plain": [
       "<Figure size 1080x360 with 2 Axes>"
      ]
     },
     "metadata": {
      "needs_background": "light"
     },
     "output_type": "display_data"
    }
   ],
   "source": [
    "# Cosine scores distribution by labels\n",
    "metric = ['Cosine', 'Euclidean']\n",
    "results = [dist_cos, dist_euc]\n",
    "fig, ax = plt.subplots(1,2, figsize=(15,5))\n",
    "\n",
    "for i in range(0,2):\n",
    "    sb.distplot(results[i]['neutral'], hist=False, ax=ax[i])\n",
    "    sb.distplot(results[i]['entailment'], hist=False, color='green', ax=ax[i])\n",
    "    sb.distplot(results[i]['contradiction'], hist=False, color='red', ax=ax[i])\n",
    "    ax[i].set_title(metric[i] + ' Distribution by labels')\n",
    "\n",
    "plt.show()\n"
   ]
  },
  {
   "cell_type": "markdown",
   "metadata": {},
   "source": [
    "## 5. DATA MODELING. MULTI-CLASSIFICATION PROBLEM"
   ]
  },
  {
   "cell_type": "code",
   "execution_count": 29,
   "metadata": {},
   "outputs": [
    {
     "name": "stdout",
     "output_type": "stream",
     "text": [
      "X_train Length: 10000\n",
      "y_train Shape: (10000,)\n"
     ]
    }
   ],
   "source": [
    "# Transform saprse matrix to numpy\n",
    "X_train1 = X_train1.todense().A\n",
    "X_train2 = X_train2.todense().A\n",
    "\n",
    "X_test1 = X_test1.todense().A\n",
    "X_test2 = X_test2.todense().A\n",
    "\n",
    "# The approach used to represent the input is going to be substraction (A sent_vector - B sent_vector)\n",
    "\n",
    "X_train = []\n",
    "N,_ = X_train1.shape\n",
    "M,_ = X_test1.shape\n",
    "\n",
    "for i in range(0,N):\n",
    "    subs = X_train1[i] - X_train2[i]\n",
    "    X_train.append(subs)\n",
    "print('X_train Length:', len(X_train))\n",
    "    \n",
    "X_test = []\n",
    "for i in range(0,M):\n",
    "    subs = X_test1[i] - X_test2[i]\n",
    "    X_test.append(subs)\n",
    "\n",
    "\n",
    "y_train = np.array(train_data['int_label'].values)\n",
    "y_test = np.array(test_data['int_label'].values)\n",
    "print('y_train Shape:', y_train.shape)"
   ]
  },
  {
   "cell_type": "code",
   "execution_count": 30,
   "metadata": {},
   "outputs": [],
   "source": [
    "class EstimatorSelectionHelper:\n",
    "    \n",
    "    def __init__(self, models, params):\n",
    "        self.models = models\n",
    "        self.params = params\n",
    "        self.keys = models.keys() # list of models' names\n",
    "        self.grid_searches = {} ## empty dictionary for the Grid.fit of each model\n",
    "    \n",
    "    def fit(self, X, y, **grid_kwargs):\n",
    "        for key in self.keys:\n",
    "            print('Running GridSearchCV for %s.' % key)\n",
    "            model = self.models[key]\n",
    "            params = self.params[key]\n",
    "            grid_search = GridSearchCV(model, params, **grid_kwargs, cv=3)\n",
    "            grid_search.fit(X, y)\n",
    "            self.grid_searches[key] = grid_search ## fitting output from gird_search\n",
    "        print('Done.')\n",
    "    \n",
    "    def score_summary(self, sort_by='mean_test_score'):\n",
    "        frames = []\n",
    "        for name, grid_search in self.grid_searches.items():\n",
    "            frame = pd.DataFrame(grid_search.cv_results_) # The results for every combination of param\n",
    "            frame = frame.filter(regex='^(?!.*param_).*$') # remove columns about GRID parameters\n",
    "            frame['estimator'] = len(frame)*[name] # add the name of the model for every combo \n",
    "            frames.append(frame)\n",
    "        df = pd.concat(frames) # final dict of all the training that the grid model has done\n",
    "        \n",
    "        df = df.sort_values([sort_by], ascending=False)\n",
    "        df = df.reset_index()\n",
    "        df = df.drop(['rank_test_score', 'index'], 1)\n",
    "        \n",
    "        # Reorder the columns so estimator is the first one\n",
    "        columns = df.columns.tolist() \n",
    "        columns.remove('estimator') \n",
    "        columns = ['estimator']+columns \n",
    "        df = df[columns]\n",
    "        return df"
   ]
  },
  {
   "cell_type": "code",
   "execution_count": 31,
   "metadata": {},
   "outputs": [],
   "source": [
    "models = {\n",
    "    'LogisticRegression': LogisticRegression(n_jobs=-1),\n",
    "    'kNN': KNeighborsClassifier(n_jobs=-1),\n",
    "    'SVC': SVC(),\n",
    "    'RandomForestClassifier': RandomForestClassifier(n_jobs=-1)\n",
    "}\n",
    "\n",
    "params = {\n",
    "    'LogisticRegression': {'solver' : ['newton-cg', 'saga', 'sag'],\n",
    "                          'C' : np.logspace(-10, 0, 10)\n",
    "                          },\n",
    "    'kNN': {'n_neighbors' : [3, 5, 10],\n",
    "           'weights': [\"uniform\", \"distance\"]\n",
    "           },\n",
    "    'SVC': {'C': [0.1, 1, 10],\n",
    "              'gamma': ['auto', 'scale']\n",
    "           },\n",
    "    'RandomForestClassifier': {'n_estimators': [10,50,100],\n",
    "              'criterion': ['gini', 'entropy']\n",
    "            }\n",
    "}"
   ]
  },
  {
   "cell_type": "code",
   "execution_count": 32,
   "metadata": {},
   "outputs": [
    {
     "name": "stdout",
     "output_type": "stream",
     "text": [
      "Running GridSearchCV for LogisticRegression.\n",
      "Running GridSearchCV for kNN.\n",
      "Running GridSearchCV for SVC.\n",
      "Running GridSearchCV for RandomForestClassifier.\n",
      "Done.\n",
      "Time in minutes: 13.570047148068745\n"
     ]
    }
   ],
   "source": [
    "t0 = time.time()\n",
    "\n",
    "combined_results=pd.DataFrame()\n",
    "\n",
    "helper = EstimatorSelectionHelper(models, params)\n",
    "\n",
    "helper.fit(X_train, y_train, scoring='accuracy')\n",
    "results = helper.score_summary()\n",
    "combined_results = pd.concat([combined_results, results], ignore_index=True)\n",
    "\n",
    "print('Time in minutes:', (time.time() - t0)/60)"
   ]
  },
  {
   "cell_type": "code",
   "execution_count": 33,
   "metadata": {},
   "outputs": [
    {
     "data": {
      "text/html": [
       "<div>\n",
       "<style scoped>\n",
       "    .dataframe tbody tr th:only-of-type {\n",
       "        vertical-align: middle;\n",
       "    }\n",
       "\n",
       "    .dataframe tbody tr th {\n",
       "        vertical-align: top;\n",
       "    }\n",
       "\n",
       "    .dataframe thead th {\n",
       "        text-align: right;\n",
       "    }\n",
       "</style>\n",
       "<table border=\"1\" class=\"dataframe\">\n",
       "  <thead>\n",
       "    <tr style=\"text-align: right;\">\n",
       "      <th></th>\n",
       "      <th>estimator</th>\n",
       "      <th>params</th>\n",
       "      <th>mean_test_score</th>\n",
       "      <th>mean_fit_time</th>\n",
       "      <th>mean_score_time</th>\n",
       "    </tr>\n",
       "  </thead>\n",
       "  <tbody>\n",
       "    <tr>\n",
       "      <th>0</th>\n",
       "      <td>SVC</td>\n",
       "      <td>{'C': 1, 'gamma': 'scale'}</td>\n",
       "      <td>0.527200</td>\n",
       "      <td>22.737381</td>\n",
       "      <td>8.293610</td>\n",
       "    </tr>\n",
       "    <tr>\n",
       "      <th>1</th>\n",
       "      <td>RandomForestClassifier</td>\n",
       "      <td>{'criterion': 'entropy', 'n_estimators': 100}</td>\n",
       "      <td>0.494999</td>\n",
       "      <td>2.266024</td>\n",
       "      <td>0.114120</td>\n",
       "    </tr>\n",
       "    <tr>\n",
       "      <th>2</th>\n",
       "      <td>RandomForestClassifier</td>\n",
       "      <td>{'criterion': 'gini', 'n_estimators': 100}</td>\n",
       "      <td>0.494900</td>\n",
       "      <td>1.820281</td>\n",
       "      <td>0.117069</td>\n",
       "    </tr>\n",
       "    <tr>\n",
       "      <th>3</th>\n",
       "      <td>SVC</td>\n",
       "      <td>{'C': 10, 'gamma': 'auto'}</td>\n",
       "      <td>0.493000</td>\n",
       "      <td>24.374123</td>\n",
       "      <td>8.559503</td>\n",
       "    </tr>\n",
       "    <tr>\n",
       "      <th>4</th>\n",
       "      <td>RandomForestClassifier</td>\n",
       "      <td>{'criterion': 'gini', 'n_estimators': 50}</td>\n",
       "      <td>0.492800</td>\n",
       "      <td>0.903558</td>\n",
       "      <td>0.113419</td>\n",
       "    </tr>\n",
       "    <tr>\n",
       "      <th>5</th>\n",
       "      <td>RandomForestClassifier</td>\n",
       "      <td>{'criterion': 'entropy', 'n_estimators': 50}</td>\n",
       "      <td>0.492499</td>\n",
       "      <td>1.107773</td>\n",
       "      <td>0.112321</td>\n",
       "    </tr>\n",
       "    <tr>\n",
       "      <th>6</th>\n",
       "      <td>SVC</td>\n",
       "      <td>{'C': 10, 'gamma': 'scale'}</td>\n",
       "      <td>0.489300</td>\n",
       "      <td>26.397822</td>\n",
       "      <td>8.569494</td>\n",
       "    </tr>\n",
       "    <tr>\n",
       "      <th>7</th>\n",
       "      <td>LogisticRegression</td>\n",
       "      <td>{'C': 0.07742636826811278, 'solver': 'sag'}</td>\n",
       "      <td>0.487700</td>\n",
       "      <td>0.813487</td>\n",
       "      <td>0.003720</td>\n",
       "    </tr>\n",
       "    <tr>\n",
       "      <th>8</th>\n",
       "      <td>LogisticRegression</td>\n",
       "      <td>{'C': 0.07742636826811278, 'solver': 'saga'}</td>\n",
       "      <td>0.487600</td>\n",
       "      <td>0.828690</td>\n",
       "      <td>0.003738</td>\n",
       "    </tr>\n",
       "    <tr>\n",
       "      <th>9</th>\n",
       "      <td>LogisticRegression</td>\n",
       "      <td>{'C': 0.07742636826811278, 'solver': 'newton-cg'}</td>\n",
       "      <td>0.487600</td>\n",
       "      <td>0.634055</td>\n",
       "      <td>0.003629</td>\n",
       "    </tr>\n",
       "  </tbody>\n",
       "</table>\n",
       "</div>"
      ],
      "text/plain": [
       "                estimator                                             params  \\\n",
       "0                     SVC                         {'C': 1, 'gamma': 'scale'}   \n",
       "1  RandomForestClassifier      {'criterion': 'entropy', 'n_estimators': 100}   \n",
       "2  RandomForestClassifier         {'criterion': 'gini', 'n_estimators': 100}   \n",
       "3                     SVC                         {'C': 10, 'gamma': 'auto'}   \n",
       "4  RandomForestClassifier          {'criterion': 'gini', 'n_estimators': 50}   \n",
       "5  RandomForestClassifier       {'criterion': 'entropy', 'n_estimators': 50}   \n",
       "6                     SVC                        {'C': 10, 'gamma': 'scale'}   \n",
       "7      LogisticRegression        {'C': 0.07742636826811278, 'solver': 'sag'}   \n",
       "8      LogisticRegression       {'C': 0.07742636826811278, 'solver': 'saga'}   \n",
       "9      LogisticRegression  {'C': 0.07742636826811278, 'solver': 'newton-cg'}   \n",
       "\n",
       "   mean_test_score  mean_fit_time  mean_score_time  \n",
       "0         0.527200      22.737381         8.293610  \n",
       "1         0.494999       2.266024         0.114120  \n",
       "2         0.494900       1.820281         0.117069  \n",
       "3         0.493000      24.374123         8.559503  \n",
       "4         0.492800       0.903558         0.113419  \n",
       "5         0.492499       1.107773         0.112321  \n",
       "6         0.489300      26.397822         8.569494  \n",
       "7         0.487700       0.813487         0.003720  \n",
       "8         0.487600       0.828690         0.003738  \n",
       "9         0.487600       0.634055         0.003629  "
      ]
     },
     "execution_count": 33,
     "metadata": {},
     "output_type": "execute_result"
    }
   ],
   "source": [
    "# Display the results dataframe\n",
    "results = results.sort_values(by='mean_test_score', ascending=False)\n",
    "results = results.reset_index(drop=True)\n",
    "cols = ['estimator', 'params', 'mean_test_score', 'mean_fit_time', 'mean_score_time']\n",
    "results = results[cols]\n",
    "results.head(10)"
   ]
  },
  {
   "cell_type": "code",
   "execution_count": 34,
   "metadata": {},
   "outputs": [
    {
     "data": {
      "text/plain": [
       "<matplotlib.axes._subplots.AxesSubplot at 0x7f8ca997e190>"
      ]
     },
     "execution_count": 34,
     "metadata": {},
     "output_type": "execute_result"
    },
    {
     "data": {
      "image/png": "[encoded data removed]",
      "text/plain": [
       "<Figure size 1080x360 with 1 Axes>"
      ]
     },
     "metadata": {
      "needs_background": "light"
     },
     "output_type": "display_data"
    }
   ],
   "source": [
    "results.boxplot(column='mean_test_score',by='estimator', figsize=(15,5), rot=90)"
   ]
  },
  {
   "cell_type": "markdown",
   "metadata": {},
   "source": [
    "### 6. ERROR ANALYSIS AND TEST RESULTS"
   ]
  },
  {
   "cell_type": "code",
   "execution_count": 35,
   "metadata": {},
   "outputs": [
    {
     "name": "stdout",
     "output_type": "stream",
     "text": [
      "              precision    recall  f1-score   support\n",
      "\n",
      "           0       0.58      0.70      0.63       854\n",
      "           1       0.57      0.48      0.52       830\n",
      "           2       0.58      0.56      0.57       816\n",
      "\n",
      "    accuracy                           0.58      2500\n",
      "   macro avg       0.58      0.58      0.57      2500\n",
      "weighted avg       0.58      0.58      0.57      2500\n",
      "\n"
     ]
    }
   ],
   "source": [
    "# Predictions for the test set\n",
    "param = results.loc[0, 'params']\n",
    "top_model = SVC(**param)\n",
    "top_model.fit(X_train,y_train)\n",
    "y_pred = top_model.predict(X_test)\n",
    "print(classification_report(y_test, y_pred))"
   ]
  },
  {
   "cell_type": "code",
   "execution_count": 36,
   "metadata": {},
   "outputs": [
    {
     "data": {
      "text/html": [
       "<div>\n",
       "<style scoped>\n",
       "    .dataframe tbody tr th:only-of-type {\n",
       "        vertical-align: middle;\n",
       "    }\n",
       "\n",
       "    .dataframe tbody tr th {\n",
       "        vertical-align: top;\n",
       "    }\n",
       "\n",
       "    .dataframe thead th {\n",
       "        text-align: right;\n",
       "    }\n",
       "</style>\n",
       "<table border=\"1\" class=\"dataframe\">\n",
       "  <thead>\n",
       "    <tr style=\"text-align: right;\">\n",
       "      <th></th>\n",
       "      <th>sentence1</th>\n",
       "      <th>sentence2</th>\n",
       "      <th>gold_label</th>\n",
       "      <th>predictions</th>\n",
       "    </tr>\n",
       "  </thead>\n",
       "  <tbody>\n",
       "    <tr>\n",
       "      <th>0</th>\n",
       "      <td>This church choir sings to the masses as they ...</td>\n",
       "      <td>The church has cracks in the ceiling.</td>\n",
       "      <td>neutral</td>\n",
       "      <td>entailment</td>\n",
       "    </tr>\n",
       "    <tr>\n",
       "      <th>1</th>\n",
       "      <td>This church choir sings to the masses as they ...</td>\n",
       "      <td>The church is filled with song.</td>\n",
       "      <td>entailment</td>\n",
       "      <td>contradiction</td>\n",
       "    </tr>\n",
       "    <tr>\n",
       "      <th>2</th>\n",
       "      <td>This church choir sings to the masses as they ...</td>\n",
       "      <td>A choir singing at a baseball game.</td>\n",
       "      <td>contradiction</td>\n",
       "      <td>contradiction</td>\n",
       "    </tr>\n",
       "    <tr>\n",
       "      <th>3</th>\n",
       "      <td>A woman with a green headscarf, blue shirt and...</td>\n",
       "      <td>The woman is young.</td>\n",
       "      <td>neutral</td>\n",
       "      <td>neutral</td>\n",
       "    </tr>\n",
       "    <tr>\n",
       "      <th>4</th>\n",
       "      <td>A woman with a green headscarf, blue shirt and...</td>\n",
       "      <td>The woman is very happy.</td>\n",
       "      <td>entailment</td>\n",
       "      <td>entailment</td>\n",
       "    </tr>\n",
       "    <tr>\n",
       "      <th>5</th>\n",
       "      <td>A woman with a green headscarf, blue shirt and...</td>\n",
       "      <td>The woman has been shot.</td>\n",
       "      <td>contradiction</td>\n",
       "      <td>entailment</td>\n",
       "    </tr>\n",
       "    <tr>\n",
       "      <th>6</th>\n",
       "      <td>An old man with a package poses in front of an...</td>\n",
       "      <td>A man poses in front of an ad.</td>\n",
       "      <td>entailment</td>\n",
       "      <td>entailment</td>\n",
       "    </tr>\n",
       "    <tr>\n",
       "      <th>7</th>\n",
       "      <td>An old man with a package poses in front of an...</td>\n",
       "      <td>A man poses in front of an ad for beer.</td>\n",
       "      <td>neutral</td>\n",
       "      <td>neutral</td>\n",
       "    </tr>\n",
       "    <tr>\n",
       "      <th>8</th>\n",
       "      <td>An old man with a package poses in front of an...</td>\n",
       "      <td>A man walks by an ad.</td>\n",
       "      <td>contradiction</td>\n",
       "      <td>entailment</td>\n",
       "    </tr>\n",
       "  </tbody>\n",
       "</table>\n",
       "</div>"
      ],
      "text/plain": [
       "                                           sentence1  \\\n",
       "0  This church choir sings to the masses as they ...   \n",
       "1  This church choir sings to the masses as they ...   \n",
       "2  This church choir sings to the masses as they ...   \n",
       "3  A woman with a green headscarf, blue shirt and...   \n",
       "4  A woman with a green headscarf, blue shirt and...   \n",
       "5  A woman with a green headscarf, blue shirt and...   \n",
       "6  An old man with a package poses in front of an...   \n",
       "7  An old man with a package poses in front of an...   \n",
       "8  An old man with a package poses in front of an...   \n",
       "\n",
       "                                 sentence2     gold_label    predictions  \n",
       "0    The church has cracks in the ceiling.        neutral     entailment  \n",
       "1          The church is filled with song.     entailment  contradiction  \n",
       "2      A choir singing at a baseball game.  contradiction  contradiction  \n",
       "3                      The woman is young.        neutral        neutral  \n",
       "4                 The woman is very happy.     entailment     entailment  \n",
       "5                 The woman has been shot.  contradiction     entailment  \n",
       "6           A man poses in front of an ad.     entailment     entailment  \n",
       "7  A man poses in front of an ad for beer.        neutral        neutral  \n",
       "8                    A man walks by an ad.  contradiction     entailment  "
      ]
     },
     "execution_count": 36,
     "metadata": {},
     "output_type": "execute_result"
    }
   ],
   "source": [
    "# Label the predictions with their correct name\n",
    "labels_name = {0:'entailment', 1:'neutral', 2:'contradiction'}\n",
    "label_pred = [labels_name[i] for i in y_pred] \n",
    "\n",
    "# Create a big data frame with the true labels and their predictions\n",
    "final_df = test_data[['sentence1', 'sentence2', 'gold_label']]\n",
    "final_df['predictions'] = label_pred \n",
    "final_df.head(9)"
   ]
  },
  {
   "cell_type": "code",
   "execution_count": 37,
   "metadata": {},
   "outputs": [
    {
     "name": "stdout",
     "output_type": "stream",
     "text": [
      "Confusion Matrix:\n"
     ]
    },
    {
     "data": {
      "text/plain": [
       "array([[596, 130, 128],\n",
       "       [241, 395, 194],\n",
       "       [199, 164, 453]])"
      ]
     },
     "execution_count": 37,
     "metadata": {},
     "output_type": "execute_result"
    }
   ],
   "source": [
    "# Confusion Matrix\n",
    "from sklearn import metrics\n",
    "\n",
    "print('Confusion Matrix:')\n",
    "metrics.confusion_matrix(y_test, y_pred) # Rows = true_labels and Col = predictions"
   ]
  },
  {
   "cell_type": "code",
   "execution_count": 38,
   "metadata": {},
   "outputs": [
    {
     "name": "stdout",
     "output_type": "stream",
     "text": [
      "Improvement of SVM:  1.7\n"
     ]
    }
   ],
   "source": [
    "# Compare svm accuracy to the baseline method ('majority class')\n",
    "baseline_acc = 854/2500\n",
    "diff = 0.58/baseline_acc\n",
    "print('Improvement of SVM: ',round(diff,2))"
   ]
  }
 ],
 "metadata": {
  "kernelspec": {
   "display_name": "Python 3",
   "language": "python",
   "name": "python3"
  },
  "language_info": {
   "codemirror_mode": {
    "name": "ipython",
    "version": 3
   },
   "file_extension": ".py",
   "mimetype": "text/x-python",
   "name": "python",
   "nbconvert_exporter": "python",
   "pygments_lexer": "ipython3",
   "version": "3.7.6"
  }
 },
 "nbformat": 4,
 "nbformat_minor": 4
}
